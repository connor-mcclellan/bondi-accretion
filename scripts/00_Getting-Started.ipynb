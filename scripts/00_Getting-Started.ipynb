{
 "cells": [
  {
   "cell_type": "markdown",
   "metadata": {},
   "source": [
    "# Getting started - Command Line and Jupyter Notebook"
   ]
  },
  {
   "cell_type": "markdown",
   "metadata": {},
   "source": [
    "This guide will walk you through navigating through the command line and opening up Jupyter Notebook. The commands included below are designed to be used with Windows Powershell, but the `bash` alternatives are included in italics for reference."
   ]
  },
  {
   "cell_type": "markdown",
   "metadata": {},
   "source": [
    "### Opening the terminal\n",
    "\n",
    "1. Go to your Windows start bar and search for \"Windows Powershell\", or just \"Powershell\".\n",
    "2. Press <kbd>Enter</kbd> or left-click on Windows Powershell to boot it up.\n",
    "    - You'll see a new window with a *command-line interface*.\n",
    "    - You can do everything you would normally do on a *graphical user interface* (GUI, or desktop environment) through this interface and more! "
   ]
  },
  {
   "cell_type": "markdown",
   "metadata": {},
   "source": [
    "### Navigating through your computer\n",
    "\n",
    "3. Type ``help`` and press <kbd>Enter</kbd>. You can also type ``help [something]`` to see a help page on a specific topic.\n",
    "    - **Tip**: In this guide, any time you see ``text like this``, you should type it into the terminal and press <kbd>Enter</kbd>. If you see something surrounded by brackets ``like [this]``, you should replace ``[this]`` with something else. Don't type the brackets into the terminal.\n",
    "    - It is common practice in coding tutorials to represent the command line with a ``$`` for `bash` (the terminal language) or a ``>`` symbol for Python. If you see a line of code with either those symbols in front, it just indicates that you should type what follows into the appropriate command line, without typing the symbol itself.\n",
    "    - **Example**:\n",
    "    \n",
    "    ``$ python`` - Type ``python`` into a bash terminal, which will start a live Python session.\n",
    "    \n",
    "    ``> print(\"Hello world!\")`` - Type this code into a live Python terminal.\n",
    "    \n",
    "    <kbd>Ctrl</kbd>+<kbd>c</kbd> - Press Control and the letter c on your keyboard to kill the Python session.\n",
    " \n",
    "\n",
    "4. You can see your \"current working directory\" in front of the cursor in your terminal. You can list the contents of the current directory with \n",
    "\n",
    "    ``$ ls``\n",
    "    \n",
    " \n",
    "5. Navigate to your Documents directory with\n",
    "\n",
    "    ``$ cd .\\Documents\\``"
   ]
  },
  {
   "cell_type": "code",
   "execution_count": null,
   "metadata": {},
   "outputs": [],
   "source": []
  },
  {
   "cell_type": "code",
   "execution_count": null,
   "metadata": {},
   "outputs": [],
   "source": []
  }
 ],
 "metadata": {
  "kernelspec": {
   "display_name": "Python 3",
   "language": "python",
   "name": "python3"
  },
  "language_info": {
   "codemirror_mode": {
    "name": "ipython",
    "version": 3
   },
   "file_extension": ".py",
   "mimetype": "text/x-python",
   "name": "python",
   "nbconvert_exporter": "python",
   "pygments_lexer": "ipython3",
   "version": "3.7.6"
  }
 },
 "nbformat": 4,
 "nbformat_minor": 4
}
