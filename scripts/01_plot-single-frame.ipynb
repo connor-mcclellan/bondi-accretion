{
 "cells": [
  {
   "cell_type": "markdown",
   "metadata": {},
   "source": [
    "# 00 - A simple data plotting script\n",
    "---\n",
    "Assuming basic familarity with the Jupyter Notebook interface, one can use this script to make a plot of a simulation output. This involves importing the function that reads the data, loading the data into a dictionary, and using `matplotlib` to view some of the data.\n",
    "\n",
    "Press <kbd>Shift</kbd> + <kbd>Enter</kbd> to run each cell below."
   ]
  },
  {
   "cell_type": "code",
   "execution_count": 19,
   "metadata": {},
   "outputs": [],
   "source": [
    "# Import the function \"athdf\" from athena_read.py\n",
    "# This function takes in a filename and loads all the data into a dictionary,\n",
    "# which stores information via key and value pairs.\n",
    "from athena_read import athdf"
   ]
  },
  {
   "cell_type": "code",
   "execution_count": 20,
   "metadata": {},
   "outputs": [],
   "source": [
    "# Import matplotlib.pyplot and give it the shortcut name \"plt\".\n",
    "# This is the Python library that allows us to plot figures.\n",
    "import matplotlib.pyplot as plt\n",
    "%matplotlib inline\n",
    "\n",
    "# We also want numpy for math functions\n",
    "import numpy as np"
   ]
  },
  {
   "cell_type": "code",
   "execution_count": 21,
   "metadata": {},
   "outputs": [],
   "source": [
    "# Assign the output of the \"athdf\" function to a new variable\n",
    "\n",
    "simulation_data = athdf(\"../data/ba_01/gr_bondi.out1.00000.athdf\")"
   ]
  },
  {
   "cell_type": "code",
   "execution_count": 22,
   "metadata": {},
   "outputs": [
    {
     "data": {
      "image/png": "[encoded data removed]",
      "text/plain": [
       "<Figure size 432x288 with 1 Axes>"
      ]
     },
     "metadata": {
      "needs_background": "light"
     },
     "output_type": "display_data"
    }
   ],
   "source": [
    "# Use plt to plot the 'rho' key from the simulation_data dictionary.\n",
    "# This contains the density data, stored as a 2D array.\n",
    "\n",
    "radius = simulation_data['x1v']\n",
    "density = simulation_data['rho'][0][0]\n",
    "\n",
    "plt.plot(radius, density, marker='o')\n",
    "plt.yscale('log')\n",
    "plt.show()"
   ]
  },
  {
   "cell_type": "markdown",
   "metadata": {},
   "source": [
    "Great! This is a plot of the density as a function of gravitational radius. We can see that the density is high nearer to the black hole, and drops off exponentially as we go further away from it.\n",
    "\n",
    "We want to get the mass accretion rate, which requires a couple calculations using the density and pressure at the very outer boundary of the simulation. Follow along with the comments below to understand how we arrive at a final number for the mass accretion rate."
   ]
  },
  {
   "cell_type": "code",
   "execution_count": 49,
   "metadata": {},
   "outputs": [
    {
     "name": "stdout",
     "output_type": "stream",
     "text": [
      "8.0\n"
     ]
    }
   ],
   "source": [
    "# Get p_inf, the pressure at infinity (an index of minus 1 grabs the *last* data point in the array)\n",
    "p_inf = simulation_data['press'][0][0][-1]\n",
    "\n",
    "# Get rho_inf, the density at infinity\n",
    "rho_inf = simulation_data['rho'][0][0][-1]\n",
    "\n",
    "# Adiabatic index\n",
    "gamma = 1.3333333333333333\n",
    "\n",
    "# Calculate sound speed at infinity\n",
    "c_inf = np.sqrt(gamma * p_inf / rho_inf)\n",
    "c_light = 3e10\n",
    "GM = 6.6743e-08\n",
    "\n",
    "# Calculate sonic point\n",
    "r_s = (5 - 3*gamma)/4 * GM / c_inf**2\n",
    "\n",
    "print((2*GM/c_inf**2)/r_s)"
   ]
  },
  {
   "cell_type": "code",
   "execution_count": 50,
   "metadata": {},
   "outputs": [
    {
     "data": {
      "text/plain": [
       "3.545192252207198e-16"
      ]
     },
     "execution_count": 50,
     "metadata": {},
     "output_type": "execute_result"
    }
   ],
   "source": [
    "lambda_s = 1/4 * (2/(5 - 3*gamma))**((5-3*gamma)/(2*gamma - 2))\n",
    "mdot = 4 * np.pi * lambda_s * GM**2 * rho_inf / c_inf**3\n",
    "mdot"
   ]
  },
  {
   "cell_type": "code",
   "execution_count": null,
   "metadata": {},
   "outputs": [],
   "source": []
  }
 ],
 "metadata": {
  "kernelspec": {
   "display_name": "Python 3",
   "language": "python",
   "name": "python3"
  },
  "language_info": {
   "codemirror_mode": {
    "name": "ipython",
    "version": 3
   },
   "file_extension": ".py",
   "mimetype": "text/x-python",
   "name": "python",
   "nbconvert_exporter": "python",
   "pygments_lexer": "ipython3",
   "version": "3.7.6"
  }
 },
 "nbformat": 4,
 "nbformat_minor": 4
}
